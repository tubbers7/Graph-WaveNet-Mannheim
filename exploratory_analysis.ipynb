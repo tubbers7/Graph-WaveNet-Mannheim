{
 "cells": [
  {
   "cell_type": "code",
   "execution_count": 4,
   "id": "fdbd859b",
   "metadata": {},
   "outputs": [],
   "source": [
    "#importing packages\n",
    "import networkx as nx\n",
    "import numpy as np\n",
    "import matplotlib.pyplot as plt\n",
    "import pandas as pd\n",
    "import numpy as np\n",
    "import pickle"
   ]
  },
  {
   "cell_type": "markdown",
   "id": "94c28931",
   "metadata": {},
   "source": [
    "# Import Graphs"
   ]
  },
  {
   "cell_type": "code",
   "execution_count": 5,
   "id": "65faedcc",
   "metadata": {},
   "outputs": [],
   "source": [
    "#mannheim\n",
    "mann = pd.read_csv(\"/pfs/work9/workspace/scratch/ma_tofuchs-GraphWave-Seminar/Datasets/Mannheim/train_data/sensor_graph/adj_mx.csv\", index_col = 0)\n",
    "mann.index = mann.index.astype(str)\n",
    "mann_adj = nx.from_pandas_adjacency(mann)\n",
    "\n",
    "#la\n",
    "with open(\"/pfs/work9/workspace/scratch/ma_tofuchs-GraphWave-Seminar/Datasets/Meta-LA/train_data/sensor_graph/adj_mx.pkl\", \"rb\") as f:\n",
    "    G = pickle.load(f, encoding=\"latin1\")\n",
    "la_adj = nx.from_numpy_array(G[2])"
   ]
  },
  {
   "cell_type": "markdown",
   "id": "0c25946d",
   "metadata": {},
   "source": [
    "# Sparse Adj. Matrixies "
   ]
  },
  {
   "cell_type": "code",
   "execution_count": 6,
   "id": "f45c5740",
   "metadata": {},
   "outputs": [
    {
     "name": "stdout",
     "output_type": "stream",
     "text": [
      "Original: 25 nodes, 113 edges\n",
      "Pruned:   25 nodes, 10 edges\n"
     ]
    }
   ],
   "source": [
    "G = mann_adj  # e.g. nx.read_gpickle(\"mannheim_graph.gpickle\")\n",
    "\n",
    "# 2. Choose your Laplacian‐threshold τ\n",
    "tau = 0.2\n",
    "\n",
    "# 3. Fix a consistent node ordering\n",
    "nodes = list(G.nodes())\n",
    "\n",
    "# 4. Compute the normalized Laplacian matrix L (dense)\n",
    "#    L[i,j] = -A[i,j]/sqrt(d_i d_j) for i≠j,  L[i,i]=1\n",
    "L = nx.normalized_laplacian_matrix(G, nodelist=nodes).toarray()\n",
    "\n",
    "# 5. Build a pruned copy of G\n",
    "G_sparse_2 = nx.Graph()\n",
    "G_sparse_2.add_nodes_from(G.nodes(data=True))\n",
    "\n",
    "# 6. Re‐add only those edges whose |L_ij| ≥ τ\n",
    "for i, u in enumerate(nodes):\n",
    "    for j in range(i+1, len(nodes)):\n",
    "        v = nodes[j]\n",
    "        if G.has_edge(u, v):\n",
    "            if abs(L[i, j]) >= tau:\n",
    "                # preserve the original weight attribute if present\n",
    "                w = G[u][v].get('weight', 1.0)\n",
    "                G_sparse_2.add_edge(u, v, weight=w)\n",
    "\n",
    "# 7. Inspect\n",
    "print(\"Original:\", G.number_of_nodes(), \"nodes,\", G.number_of_edges(), \"edges\")\n",
    "print(\"Pruned:  \", G_sparse_2.number_of_nodes(), \"nodes,\", G_sparse_2.number_of_edges(), \"edges\")"
   ]
  },
  {
   "cell_type": "code",
   "execution_count": 7,
   "id": "e4c205a7",
   "metadata": {},
   "outputs": [
    {
     "name": "stdout",
     "output_type": "stream",
     "text": [
      "Original: 25 nodes, 113 edges\n",
      "Pruned:   25 nodes, 48 edges\n"
     ]
    }
   ],
   "source": [
    "G = mann_adj  # e.g. nx.read_gpickle(\"mannheim_graph.gpickle\")\n",
    "\n",
    "# 2. Choose your Laplacian‐threshold τ\n",
    "tau = 0.1\n",
    "\n",
    "# 3. Fix a consistent node ordering\n",
    "nodes = list(G.nodes())\n",
    "\n",
    "# 4. Compute the normalized Laplacian matrix L (dense)\n",
    "#    L[i,j] = -A[i,j]/sqrt(d_i d_j) for i≠j,  L[i,i]=1\n",
    "L = nx.normalized_laplacian_matrix(G, nodelist=nodes).toarray()\n",
    "\n",
    "# 5. Build a pruned copy of G\n",
    "G_sparse = nx.Graph()\n",
    "G_sparse.add_nodes_from(G.nodes(data=True))\n",
    "\n",
    "# 6. Re‐add only those edges whose |L_ij| ≥ τ\n",
    "for i, u in enumerate(nodes):\n",
    "    for j in range(i+1, len(nodes)):\n",
    "        v = nodes[j]\n",
    "        if G.has_edge(u, v):\n",
    "            if abs(L[i, j]) >= tau:\n",
    "                # preserve the original weight attribute if present\n",
    "                w = G[u][v].get('weight', 1.0)\n",
    "                G_sparse.add_edge(u, v, weight=w)\n",
    "\n",
    "# 7. Inspect\n",
    "print(\"Original:\", G.number_of_nodes(), \"nodes,\", G.number_of_edges(), \"edges\")\n",
    "print(\"Pruned:  \", G_sparse.number_of_nodes(), \"nodes,\", G_sparse.number_of_edges(), \"edges\")"
   ]
  },
  {
   "cell_type": "code",
   "execution_count": 8,
   "id": "5befd7c3",
   "metadata": {},
   "outputs": [],
   "source": [
    "#save the new adj matrixies \n",
    "tau_1_adj = nx.to_pandas_adjacency(G_sparse)\n",
    "tau_1_adj.to_csv(\"adj_sparse_1.csv\", index=True)\n",
    "\n",
    "tau_2_adj = nx.to_pandas_adjacency(G_sparse_2)\n",
    "tau_2_adj.to_csv(\"adj_sparse_2.csv\", index=True)\n"
   ]
  },
  {
   "cell_type": "markdown",
   "id": "46dc6a8f",
   "metadata": {},
   "source": [
    "# Graph Theory"
   ]
  },
  {
   "cell_type": "code",
   "execution_count": 9,
   "id": "84c4fef1",
   "metadata": {},
   "outputs": [
    {
     "name": "stdout",
     "output_type": "stream",
     "text": [
      "--- METR-LA ---\n",
      " Nodes               : 207\n",
      " Edges               : 1520\n",
      " Average degree      : 14.69\n",
      " Average clustering  : 0.221\n",
      " Spectral gap        : 1.643\n",
      " Algebraic connectivity (Fiedler) : 0.000\n",
      "\n",
      "--- Mannheim ---\n",
      " Nodes               : 25\n",
      " Edges               : 113\n",
      " Average degree      : 9.04\n",
      " Average clustering  : 0.249\n",
      " Spectral gap        : 3.371\n",
      " Algebraic connectivity (Fiedler) : 0.153\n",
      "\n",
      "--- Mannheim t=.2 ---\n",
      " Nodes               : 25\n",
      " Edges               : 10\n",
      " Average degree      : 0.80\n",
      " Average clustering  : 0.073\n",
      " Spectral gap        : 0.539\n",
      " Algebraic connectivity (Fiedler) : 0.000\n",
      "\n",
      "--- Mannheim t=.1 ---\n",
      " Nodes               : 25\n",
      " Edges               : 48\n",
      " Average degree      : 3.84\n",
      " Average clustering  : 0.303\n",
      " Spectral gap        : 1.162\n",
      " Algebraic connectivity (Fiedler) : 0.091\n",
      "\n"
     ]
    }
   ],
   "source": [
    "# Replace these with your actual graphs\n",
    "graphs = {\n",
    "    \"METR-LA\": la_adj,\n",
    "    \"Mannheim\": mann_adj, #,\n",
    "    \"Mannheim t=.2\": G_sparse_2, \n",
    "    \"Mannheim t=.1\": G_sparse\n",
    "    #\"PEMS-BAY\": pems_graph\n",
    "}\n",
    "\n",
    "def spectral_gap(G):\n",
    "    A = nx.to_numpy_array(G)\n",
    "    eigs = np.real(np.linalg.eigvals(A))\n",
    "    eigs_sorted = np.sort(eigs)[::-1]\n",
    "    return eigs_sorted[0] - eigs_sorted[1]\n",
    "\n",
    "def algebraic_connectivity(G):\n",
    "    # normalized Laplacian\n",
    "    L = nx.normalized_laplacian_matrix(G).toarray()\n",
    "    eigs = np.real(np.linalg.eigvals(L))\n",
    "    eigs_sorted = np.sort(eigs)\n",
    "    return eigs_sorted[1]  # Fiedler value\n",
    "\n",
    "for name, G in graphs.items():\n",
    "    V = G.number_of_nodes()\n",
    "    E = G.number_of_edges()\n",
    "    avg_deg = 2 * E / V\n",
    "    avg_clust = nx.average_clustering(G, weight='weight')\n",
    "    gap = spectral_gap(G)\n",
    "    fiedler = algebraic_connectivity(G)\n",
    "    print(f\"--- {name} ---\")\n",
    "    print(f\" Nodes               : {V}\")\n",
    "    print(f\" Edges               : {E}\")\n",
    "    print(f\" Average degree      : {avg_deg:.2f}\")\n",
    "    print(f\" Average clustering  : {avg_clust:.3f}\")\n",
    "    print(f\" Spectral gap        : {gap:.3f}\")\n",
    "    print(f\" Algebraic connectivity (Fiedler) : {fiedler:.3f}\")\n",
    "    print()"
   ]
  },
  {
   "cell_type": "markdown",
   "id": "ba4cd587",
   "metadata": {},
   "source": [
    "def knn_prune(A: pd.DataFrame, k: int) -> pd.DataFrame:\n",
    "    # Make an all-zero DataFrame of the same shape\n",
    "    A_knn = pd.DataFrame(0, index=A.index, columns=A.columns)\n",
    "    \n",
    "    for u in A.index:\n",
    "        # Sort neighbors of u by weight descending, pick top k (excluding self)\n",
    "        topk = A.loc[u].nlargest(k+1).index.drop(u, errors='ignore')[:k]\n",
    "        A_knn.loc[u, topk] = A.loc[u, topk]\n",
    "    \n",
    "    # Symmetrize: only keep edges if either direction selected\n",
    "    A_sym = pd.DataFrame(\n",
    "        np.maximum(A_knn.values, A_knn.values.T),\n",
    "        index=A.index, columns=A.columns\n",
    "    )\n",
    "    return A_sym\n",
    "\n",
    "# Example: keep each node’s top-5 edges\n",
    "knn_sparse = knn_prune(mann, k=5)"
   ]
  }
 ],
 "metadata": {
  "kernelspec": {
   "display_name": "EDA",
   "language": "python",
   "name": "python3"
  },
  "language_info": {
   "codemirror_mode": {
    "name": "ipython",
    "version": 3
   },
   "file_extension": ".py",
   "mimetype": "text/x-python",
   "name": "python",
   "nbconvert_exporter": "python",
   "pygments_lexer": "ipython3",
   "version": "3.9.18"
  }
 },
 "nbformat": 4,
 "nbformat_minor": 5
}
