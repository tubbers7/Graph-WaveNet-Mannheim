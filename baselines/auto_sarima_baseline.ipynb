{
 "cells": [
  {
   "cell_type": "code",
   "execution_count": 1,
   "id": "f21e304c-1ae5-4644-82b7-7359ae891781",
   "metadata": {},
   "outputs": [],
   "source": [
    "import pandas as pd\n",
    "import numpy as np\n",
    "from sklearn.metrics import mean_absolute_error, mean_squared_error\n",
    "from pmdarima import auto_arima"
   ]
  },
  {
   "cell_type": "code",
   "execution_count": 2,
   "id": "e318c196-0388-4553-aa4b-6035aa730abf",
   "metadata": {},
   "outputs": [],
   "source": [
    "# Load data\n",
    "timeseries_data = pd.read_csv('/pfs/work9/workspace/scratch/ma_tofuchs-GraphWave-Seminar/Datasets/Mannheim/imputed_dataset_grin_full.csv', index_col=0)"
   ]
  },
  {
   "cell_type": "code",
   "execution_count": 3,
   "id": "72f239b4-db9b-42a8-84d4-d683b37e4aa0",
   "metadata": {},
   "outputs": [],
   "source": [
    "# Compute split indices\n",
    "num_samples = len(timeseries_data)\n",
    "train_size = int(num_samples * 0.7)\n",
    "val_size = int(num_samples * 0.1)\n",
    "\n",
    "# Split the data\n",
    "train_data = timeseries_data.iloc[:train_size]\n",
    "val_data = timeseries_data.iloc[train_size: train_size + val_size]\n",
    "test_data = timeseries_data.iloc[train_size + val_size:]\n",
    "\n",
    "# Combine train_data and val_data\n",
    "#train_data = pd.concat([train_data, val_data], ignore_index=False)"
   ]
  },
  {
   "cell_type": "code",
   "execution_count": null,
   "id": "3ec129db-c42d-4633-9cd2-e34caefa2781",
   "metadata": {},
   "outputs": [],
   "source": [
    "# Function to process each sensor's data\n",
    "def process_sensor(sensor_id, sensor_series):\n",
    "    try:\n",
    "        print(f'Starting with sensor {sensor_id}')\n",
    "        \n",
    "        # Ensure it's a time series\n",
    "        sensor_series = sensor_series.asfreq('h').interpolate()  # Ensure hourly frequency\n",
    "        \n",
    "        # Train-test split\n",
    "        train, test = sensor_series[:len(train_data)], sensor_series[len(train_data):]\n",
    "\n",
    "        # Apply auto_arima\n",
    "        model = auto_arima(\n",
    "            train, \n",
    "            start_p=1, start_q=1,\n",
    "            max_p=3, max_q=3, \n",
    "            d=1,\n",
    "            seasonal=True,\n",
    "            m=24,\n",
    "            start_P=0, start_Q=0, \n",
    "            max_P=3, max_Q=3, \n",
    "            D=1,\n",
    "            trace=False,\n",
    "            error_action='ignore', \n",
    "            suppress_warnings=True,\n",
    "            stepwise=True\n",
    "        )\n",
    "\n",
    "        # Forecast using best model\n",
    "        forecast = model.predict(n_periods=len(test))\n",
    "\n",
    "        # Compute error metrics\n",
    "        mae = mean_absolute_error(test, forecast)\n",
    "        mape = np.mean(np.abs((test.values - forecast) / test.values)) * 100\n",
    "        rmse = np.sqrt(mean_squared_error(test, forecast))\n",
    "\n",
    "    except Exception as e:\n",
    "        print(f\"Error processing sensor {sensor_id}: {e}\")\n",
    "        return {'sensor_id': sensor_id, 'MAE': None, 'MAPE(%)': None, 'RMSE': None, 'Best_ARIMA_Order': None, 'Best_Seasonal_Order': None}\n",
    "    \n",
    "    # Return results\n",
    "    return {\n",
    "        'sensor_id': sensor_id,\n",
    "        'MAE': mae,\n",
    "        'MAPE(%)': mape,\n",
    "        'RMSE': rmse,\n",
    "        'Best_ARIMA_Order': model.order,\n",
    "        'Best_Seasonal_Order': model.seasonal_order\n",
    "    }"
   ]
  },
  {
   "cell_type": "code",
   "execution_count": 5,
   "id": "2c2666e2-789e-4616-9c6a-99028e1aa13a",
   "metadata": {},
   "outputs": [
    {
     "name": "stdout",
     "output_type": "stream",
     "text": [
      "Starting with sensor  21649702                \n",
      "Error processing sensor  21649702                : Input contains NaN.\n",
      "Starting with sensor  21649767                \n",
      "Error processing sensor  21649767                : Input contains NaN.\n",
      "Starting with sensor  21673581               \n",
      "Error processing sensor  21673581               : Input contains NaN.\n",
      "Starting with sensor  21732938                \n",
      "Error processing sensor  21732938                : Input contains NaN.\n",
      "Starting with sensor  24555545                \n",
      "Error processing sensor  24555545                : Input contains NaN.\n",
      "Starting with sensor  25117313                \n",
      "Error processing sensor  25117313                : Input contains NaN.\n",
      "Starting with sensor  25117359                \n",
      "Error processing sensor  25117359                : Input contains NaN.\n",
      "Starting with sensor  27088492                \n",
      "Error processing sensor  27088492                : Input contains NaN.\n",
      "Starting with sensor  27428132               \n",
      "Error processing sensor  27428132               : Input contains NaN.\n",
      "Starting with sensor  27428349               \n",
      "Error processing sensor  27428349               : Input contains NaN.\n",
      "Starting with sensor  61292847               \n",
      "Error processing sensor  61292847               : Input contains NaN.\n",
      "Starting with sensor  192984037                \n",
      "Error processing sensor  192984037                : Input contains NaN.\n",
      "Starting with sensor  248780653                \n",
      "Error processing sensor  248780653                : Input contains NaN.\n",
      "Starting with sensor  268591025                \n"
     ]
    },
    {
     "name": "stderr",
     "output_type": "stream",
     "text": [
      "/home/ma/ma_ma/ma_tofuchs/.conda/envs/sarima_env/lib/python3.9/site-packages/sklearn/utils/deprecation.py:151: FutureWarning: 'force_all_finite' was renamed to 'ensure_all_finite' in 1.6 and will be removed in 1.8.\n",
      "  warnings.warn(\n",
      "/home/ma/ma_ma/ma_tofuchs/.conda/envs/sarima_env/lib/python3.9/site-packages/sklearn/utils/deprecation.py:151: FutureWarning: 'force_all_finite' was renamed to 'ensure_all_finite' in 1.6 and will be removed in 1.8.\n",
      "  warnings.warn(\n",
      "/home/ma/ma_ma/ma_tofuchs/.conda/envs/sarima_env/lib/python3.9/site-packages/sklearn/utils/deprecation.py:151: FutureWarning: 'force_all_finite' was renamed to 'ensure_all_finite' in 1.6 and will be removed in 1.8.\n",
      "  warnings.warn(\n",
      "/home/ma/ma_ma/ma_tofuchs/.conda/envs/sarima_env/lib/python3.9/site-packages/sklearn/utils/deprecation.py:151: FutureWarning: 'force_all_finite' was renamed to 'ensure_all_finite' in 1.6 and will be removed in 1.8.\n",
      "  warnings.warn(\n",
      "/home/ma/ma_ma/ma_tofuchs/.conda/envs/sarima_env/lib/python3.9/site-packages/sklearn/utils/deprecation.py:151: FutureWarning: 'force_all_finite' was renamed to 'ensure_all_finite' in 1.6 and will be removed in 1.8.\n",
      "  warnings.warn(\n",
      "/home/ma/ma_ma/ma_tofuchs/.conda/envs/sarima_env/lib/python3.9/site-packages/sklearn/utils/deprecation.py:151: FutureWarning: 'force_all_finite' was renamed to 'ensure_all_finite' in 1.6 and will be removed in 1.8.\n",
      "  warnings.warn(\n",
      "/home/ma/ma_ma/ma_tofuchs/.conda/envs/sarima_env/lib/python3.9/site-packages/sklearn/utils/deprecation.py:151: FutureWarning: 'force_all_finite' was renamed to 'ensure_all_finite' in 1.6 and will be removed in 1.8.\n",
      "  warnings.warn(\n",
      "/home/ma/ma_ma/ma_tofuchs/.conda/envs/sarima_env/lib/python3.9/site-packages/sklearn/utils/deprecation.py:151: FutureWarning: 'force_all_finite' was renamed to 'ensure_all_finite' in 1.6 and will be removed in 1.8.\n",
      "  warnings.warn(\n",
      "/home/ma/ma_ma/ma_tofuchs/.conda/envs/sarima_env/lib/python3.9/site-packages/sklearn/utils/deprecation.py:151: FutureWarning: 'force_all_finite' was renamed to 'ensure_all_finite' in 1.6 and will be removed in 1.8.\n",
      "  warnings.warn(\n",
      "/home/ma/ma_ma/ma_tofuchs/.conda/envs/sarima_env/lib/python3.9/site-packages/sklearn/utils/deprecation.py:151: FutureWarning: 'force_all_finite' was renamed to 'ensure_all_finite' in 1.6 and will be removed in 1.8.\n",
      "  warnings.warn(\n",
      "/home/ma/ma_ma/ma_tofuchs/.conda/envs/sarima_env/lib/python3.9/site-packages/sklearn/utils/deprecation.py:151: FutureWarning: 'force_all_finite' was renamed to 'ensure_all_finite' in 1.6 and will be removed in 1.8.\n",
      "  warnings.warn(\n",
      "/home/ma/ma_ma/ma_tofuchs/.conda/envs/sarima_env/lib/python3.9/site-packages/sklearn/utils/deprecation.py:151: FutureWarning: 'force_all_finite' was renamed to 'ensure_all_finite' in 1.6 and will be removed in 1.8.\n",
      "  warnings.warn(\n",
      "/home/ma/ma_ma/ma_tofuchs/.conda/envs/sarima_env/lib/python3.9/site-packages/sklearn/utils/deprecation.py:151: FutureWarning: 'force_all_finite' was renamed to 'ensure_all_finite' in 1.6 and will be removed in 1.8.\n",
      "  warnings.warn(\n"
     ]
    },
    {
     "name": "stdout",
     "output_type": "stream",
     "text": [
      "Error processing sensor  268591025                : Input contains NaN.\n",
      "Starting with sensor  282260231                \n",
      "Error processing sensor  282260231                : Input contains NaN.\n",
      "Starting with sensor  382656460                \n",
      "Error processing sensor  382656460                : Input contains NaN.\n",
      "Starting with sensor  883463116                \n",
      "Error processing sensor  883463116                : Input contains NaN.\n",
      "Starting with sensor  988747917                \n",
      "Error processing sensor  988747917                : Input contains NaN.\n",
      "Starting with sensor  1176328666                \n",
      "Error processing sensor  1176328666                : Input contains NaN.\n",
      "Starting with sensor  1184512491                \n",
      "Error processing sensor  1184512491                : Input contains NaN.\n",
      "Starting with sensor  1633105688                \n",
      "Error processing sensor  1633105688                : Input contains NaN.\n",
      "Starting with sensor  1652156206                \n",
      "Error processing sensor  1652156206                : Input contains NaN.\n",
      "Starting with sensor  1672017001                \n",
      "Error processing sensor  1672017001                : Input contains NaN.\n",
      "Starting with sensor  1946017834               \n",
      "Error processing sensor  1946017834               : Input contains NaN.\n",
      "Starting with sensor  10062245202\n",
      "Error processing sensor  10062245202: Input contains NaN.\n",
      "Processing complete. Results saved to auto-arima_results.csv\n"
     ]
    },
    {
     "name": "stderr",
     "output_type": "stream",
     "text": [
      "/home/ma/ma_ma/ma_tofuchs/.conda/envs/sarima_env/lib/python3.9/site-packages/sklearn/utils/deprecation.py:151: FutureWarning: 'force_all_finite' was renamed to 'ensure_all_finite' in 1.6 and will be removed in 1.8.\n",
      "  warnings.warn(\n",
      "/home/ma/ma_ma/ma_tofuchs/.conda/envs/sarima_env/lib/python3.9/site-packages/sklearn/utils/deprecation.py:151: FutureWarning: 'force_all_finite' was renamed to 'ensure_all_finite' in 1.6 and will be removed in 1.8.\n",
      "  warnings.warn(\n",
      "/home/ma/ma_ma/ma_tofuchs/.conda/envs/sarima_env/lib/python3.9/site-packages/sklearn/utils/deprecation.py:151: FutureWarning: 'force_all_finite' was renamed to 'ensure_all_finite' in 1.6 and will be removed in 1.8.\n",
      "  warnings.warn(\n",
      "/home/ma/ma_ma/ma_tofuchs/.conda/envs/sarima_env/lib/python3.9/site-packages/sklearn/utils/deprecation.py:151: FutureWarning: 'force_all_finite' was renamed to 'ensure_all_finite' in 1.6 and will be removed in 1.8.\n",
      "  warnings.warn(\n",
      "/home/ma/ma_ma/ma_tofuchs/.conda/envs/sarima_env/lib/python3.9/site-packages/sklearn/utils/deprecation.py:151: FutureWarning: 'force_all_finite' was renamed to 'ensure_all_finite' in 1.6 and will be removed in 1.8.\n",
      "  warnings.warn(\n",
      "/home/ma/ma_ma/ma_tofuchs/.conda/envs/sarima_env/lib/python3.9/site-packages/sklearn/utils/deprecation.py:151: FutureWarning: 'force_all_finite' was renamed to 'ensure_all_finite' in 1.6 and will be removed in 1.8.\n",
      "  warnings.warn(\n",
      "/home/ma/ma_ma/ma_tofuchs/.conda/envs/sarima_env/lib/python3.9/site-packages/sklearn/utils/deprecation.py:151: FutureWarning: 'force_all_finite' was renamed to 'ensure_all_finite' in 1.6 and will be removed in 1.8.\n",
      "  warnings.warn(\n",
      "/home/ma/ma_ma/ma_tofuchs/.conda/envs/sarima_env/lib/python3.9/site-packages/sklearn/utils/deprecation.py:151: FutureWarning: 'force_all_finite' was renamed to 'ensure_all_finite' in 1.6 and will be removed in 1.8.\n",
      "  warnings.warn(\n",
      "/home/ma/ma_ma/ma_tofuchs/.conda/envs/sarima_env/lib/python3.9/site-packages/sklearn/utils/deprecation.py:151: FutureWarning: 'force_all_finite' was renamed to 'ensure_all_finite' in 1.6 and will be removed in 1.8.\n",
      "  warnings.warn(\n",
      "/home/ma/ma_ma/ma_tofuchs/.conda/envs/sarima_env/lib/python3.9/site-packages/sklearn/utils/deprecation.py:151: FutureWarning: 'force_all_finite' was renamed to 'ensure_all_finite' in 1.6 and will be removed in 1.8.\n",
      "  warnings.warn(\n",
      "/home/ma/ma_ma/ma_tofuchs/.conda/envs/sarima_env/lib/python3.9/site-packages/sklearn/utils/deprecation.py:151: FutureWarning: 'force_all_finite' was renamed to 'ensure_all_finite' in 1.6 and will be removed in 1.8.\n",
      "  warnings.warn(\n",
      "/home/ma/ma_ma/ma_tofuchs/.conda/envs/sarima_env/lib/python3.9/site-packages/sklearn/utils/deprecation.py:151: FutureWarning: 'force_all_finite' was renamed to 'ensure_all_finite' in 1.6 and will be removed in 1.8.\n",
      "  warnings.warn(\n"
     ]
    }
   ],
   "source": [
    "# Process all sensors\n",
    "results = []\n",
    "for sensor_id in timeseries_data.columns:\n",
    "    sensor_series = timeseries_data[sensor_id]\n",
    "    result = process_sensor(sensor_id, sensor_series)\n",
    "    results.append(result)\n",
    "\n",
    "# Convert results to DataFrame and save\n",
    "results_df = pd.DataFrame(results)\n",
    "results_df.to_csv('auto-arima_results.csv', index=False)\n",
    "print(\"Processing complete. Results saved to auto-arima_results.csv\")"
   ]
  },
  {
   "cell_type": "code",
   "execution_count": null,
   "id": "2f08c6ee-7832-4362-9030-fb100810ef63",
   "metadata": {},
   "outputs": [],
   "source": []
  },
  {
   "cell_type": "code",
   "execution_count": 6,
   "id": "c838a09e-edf3-44a7-93ff-404da5ccf7d4",
   "metadata": {},
   "outputs": [
    {
     "name": "stdout",
     "output_type": "stream",
     "text": [
      "False\n"
     ]
    }
   ],
   "source": [
    "# Check if any NaN values exist\n",
    "print(test_data.isna().any().any())  # Returns True if there are NaNs"
   ]
  },
  {
   "cell_type": "code",
   "execution_count": null,
   "id": "281591cd-94e9-4f32-9f34-9f4a8ce32ffd",
   "metadata": {},
   "outputs": [],
   "source": []
  }
 ],
 "metadata": {
  "kernelspec": {
   "display_name": "sarima_env",
   "language": "python",
   "name": "python3"
  },
  "language_info": {
   "codemirror_mode": {
    "name": "ipython",
    "version": 3
   },
   "file_extension": ".py",
   "mimetype": "text/x-python",
   "name": "python",
   "nbconvert_exporter": "python",
   "pygments_lexer": "ipython3",
   "version": "3.9.22"
  }
 },
 "nbformat": 4,
 "nbformat_minor": 5
}
